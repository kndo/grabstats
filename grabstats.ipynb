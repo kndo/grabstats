{
 "cells": [
  {
   "cell_type": "code",
   "execution_count": 106,
   "metadata": {},
   "outputs": [],
   "source": [
    "import requests\n",
    "from lxml import html\n",
    "from dateutil import parser\n",
    "import pandas as pd\n",
    "\n",
    "pd.set_option('display.max_rows', 500)\n",
    "pd.set_option('display.max_columns', 50)"
   ]
  },
  {
   "cell_type": "code",
   "execution_count": 71,
   "metadata": {},
   "outputs": [],
   "source": [
    "team_name_abbrev = {\n",
    "    'Atlanta Hawks':           'ATL',\n",
    "    'Boston Celtics':          'BOS',\n",
    "    'Brooklyn Nets':           'BRK',\n",
    "    'Charlotte Hornets':       'CHO',\n",
    "    'Cleveland Cavaliers':     'CLE',\n",
    "    'Chicago Bulls':           'CHI',\n",
    "    'Dallas Mavericks':        'DAL',\n",
    "    'Denver Nuggets':          'DEN',\n",
    "    'Detroit Pistons':         'DET',\n",
    "    'Golden State Warriors':   'GSW',\n",
    "    'Houston Rockets':         'HOU',\n",
    "    'Indiana Pacers':          'IND',\n",
    "    'Los Angeles Clippers':    'LAC',\n",
    "    'Los Angeles Lakers':      'LAL',\n",
    "    'Memphis Grizzlies':       'MEM',\n",
    "    'Miami Heat':              'MIA',\n",
    "    'Milwaukee Bucks':         'MIL',\n",
    "    'Minnesota Timberwolves':  'MIN',\n",
    "    'New Orleans Pelicans':    'NOP',\n",
    "    'New York Knicks':         'NYK',\n",
    "    'Oklahoma City Thunder':   'OKC',\n",
    "    'Orlando Magic':           'ORL',\n",
    "    'Philadelphia 76ers':      'PHI',\n",
    "    'Phoenix Suns':            'PHO',\n",
    "    'Portland Trailblazers':   'POR',\n",
    "    'Sacramento Kings':        'SAC',\n",
    "    'San Antonio Spurs':       'SAS',\n",
    "    'Toronto Raptors':         'TOR',\n",
    "    'Utah Jazz':               'UTA',\n",
    "    'Washington Wizards':      'WAS',\n",
    "}"
   ]
  },
  {
   "cell_type": "code",
   "execution_count": 222,
   "metadata": {},
   "outputs": [],
   "source": [
    "def get_monthly_schedule(year, month):\n",
    "    url = f'https://www.basketball-reference.com/leagues/NBA_{year}_games-{month}.html'\n",
    "    page = requests.get(url)\n",
    "    tree = html.fromstring(page.content)\n",
    "    \n",
    "    game_date = tree.xpath('//*[@data-stat=\"date_game\"]/a/text()')\n",
    "\n",
    "    road_team = tree.xpath('//*[@data-stat=\"visitor_team_name\"]/a/text()')\n",
    "    road_pts = tree.xpath('//*[@data-stat=\"visitor_pts\"]/text()')\n",
    "    road_pts.pop(0)  # Remove col name\n",
    "\n",
    "    home_team = tree.xpath('//*[@data-stat=\"home_team_name\"]/a/text()')\n",
    "    home_pts = tree.xpath('//*[@data-stat=\"home_pts\"]/text()')\n",
    "    home_pts.pop(0)  # Remove col name\n",
    "\n",
    "    box_score = tree.xpath('//*[@data-stat=\"box_score_text\"]/a/@href')\n",
    "    \n",
    "    sched = {\n",
    "        'DATE':       game_date,\n",
    "        'ROAD_TEAM':  road_team,\n",
    "        'ROAD_PTS':   road_pts,\n",
    "        'HOME_TEAM':  home_team,\n",
    "        'HOME_PTS':   home_pts,\n",
    "        'BOX_SCORE':  box_score,\n",
    "    }\n",
    "    \n",
    "    sched = pd.DataFrame(sched)\n",
    "    sched['ROAD_TM'] = sched['ROAD_TEAM'].map(team_name_abbrev)\n",
    "    sched['HOME_TM'] = sched['HOME_TEAM'].map(team_name_abbrev)\n",
    "    sched = sched[['DATE', 'ROAD_TEAM', 'ROAD_TM', 'ROAD_PTS',\n",
    "                           'HOME_TEAM', 'HOME_TM', 'HOME_PTS', 'BOX_SCORE']]\n",
    "    \n",
    "    BBALLREF = 'https://www.basketball-reference.com'\n",
    "    sched['BOX_SCORE'] = sched['BOX_SCORE'].apply(lambda x: BBALLREF + x)\n",
    "    \n",
    "    def format_date(date):\n",
    "        date = parser.parse(date)\n",
    "        return date.strftime('%Y-%m-%d')\n",
    "    \n",
    "    sched['DATE'] = sched['DATE'].apply(format_date)\n",
    "    \n",
    "    return sched"
   ]
  },
  {
   "cell_type": "code",
   "execution_count": 223,
   "metadata": {},
   "outputs": [],
   "source": [
    "def get_daily_schedule(date):\n",
    "    \"\"\"\n",
    "    date: a string with format 'YYYY-MM-DD'\n",
    "    \"\"\"\n",
    "    \n",
    "    # Get month and day from date\n",
    "    parsed_date = parser.parse(date)\n",
    "    month = parsed_date.strftime('%B').lower()\n",
    "    year = parsed_date.strftime('%Y')\n",
    "    \n",
    "    if month in ['october, november, december']:\n",
    "        year = str(int(year) + 1)  # Increment year\n",
    "    \n",
    "    sched = get_monthly_schedule(year, month)\n",
    "    \n",
    "    return sched.query('DATE == @date').reset_index(drop=True)\n",
    "    "
   ]
  },
  {
   "cell_type": "code",
   "execution_count": 224,
   "metadata": {},
   "outputs": [],
   "source": [
    "sched = get_daily_schedule('2018-01-13')"
   ]
  },
  {
   "cell_type": "code",
   "execution_count": 225,
   "metadata": {},
   "outputs": [
    {
     "data": {
      "text/html": [
       "<div>\n",
       "<style scoped>\n",
       "    .dataframe tbody tr th:only-of-type {\n",
       "        vertical-align: middle;\n",
       "    }\n",
       "\n",
       "    .dataframe tbody tr th {\n",
       "        vertical-align: top;\n",
       "    }\n",
       "\n",
       "    .dataframe thead th {\n",
       "        text-align: right;\n",
       "    }\n",
       "</style>\n",
       "<table border=\"1\" class=\"dataframe\">\n",
       "  <thead>\n",
       "    <tr style=\"text-align: right;\">\n",
       "      <th></th>\n",
       "      <th>DATE</th>\n",
       "      <th>ROAD_TEAM</th>\n",
       "      <th>ROAD_TM</th>\n",
       "      <th>ROAD_PTS</th>\n",
       "      <th>HOME_TEAM</th>\n",
       "      <th>HOME_TM</th>\n",
       "      <th>HOME_PTS</th>\n",
       "      <th>BOX_SCORE</th>\n",
       "    </tr>\n",
       "  </thead>\n",
       "  <tbody>\n",
       "    <tr>\n",
       "      <th>0</th>\n",
       "      <td>2018-01-13</td>\n",
       "      <td>Detroit Pistons</td>\n",
       "      <td>DET</td>\n",
       "      <td>105</td>\n",
       "      <td>Chicago Bulls</td>\n",
       "      <td>CHI</td>\n",
       "      <td>107</td>\n",
       "      <td>https://www.basketball-reference.com/boxscores...</td>\n",
       "    </tr>\n",
       "    <tr>\n",
       "      <th>1</th>\n",
       "      <td>2018-01-13</td>\n",
       "      <td>Oklahoma City Thunder</td>\n",
       "      <td>OKC</td>\n",
       "      <td>101</td>\n",
       "      <td>Charlotte Hornets</td>\n",
       "      <td>CHO</td>\n",
       "      <td>91</td>\n",
       "      <td>https://www.basketball-reference.com/boxscores...</td>\n",
       "    </tr>\n",
       "    <tr>\n",
       "      <th>2</th>\n",
       "      <td>2018-01-13</td>\n",
       "      <td>Los Angeles Lakers</td>\n",
       "      <td>LAL</td>\n",
       "      <td>107</td>\n",
       "      <td>Dallas Mavericks</td>\n",
       "      <td>DAL</td>\n",
       "      <td>101</td>\n",
       "      <td>https://www.basketball-reference.com/boxscores...</td>\n",
       "    </tr>\n",
       "    <tr>\n",
       "      <th>3</th>\n",
       "      <td>2018-01-13</td>\n",
       "      <td>Sacramento Kings</td>\n",
       "      <td>SAC</td>\n",
       "      <td>105</td>\n",
       "      <td>Los Angeles Clippers</td>\n",
       "      <td>LAC</td>\n",
       "      <td>126</td>\n",
       "      <td>https://www.basketball-reference.com/boxscores...</td>\n",
       "    </tr>\n",
       "    <tr>\n",
       "      <th>4</th>\n",
       "      <td>2018-01-13</td>\n",
       "      <td>Denver Nuggets</td>\n",
       "      <td>DEN</td>\n",
       "      <td>80</td>\n",
       "      <td>San Antonio Spurs</td>\n",
       "      <td>SAS</td>\n",
       "      <td>112</td>\n",
       "      <td>https://www.basketball-reference.com/boxscores...</td>\n",
       "    </tr>\n",
       "    <tr>\n",
       "      <th>5</th>\n",
       "      <td>2018-01-13</td>\n",
       "      <td>Golden State Warriors</td>\n",
       "      <td>GSW</td>\n",
       "      <td>127</td>\n",
       "      <td>Toronto Raptors</td>\n",
       "      <td>TOR</td>\n",
       "      <td>125</td>\n",
       "      <td>https://www.basketball-reference.com/boxscores...</td>\n",
       "    </tr>\n",
       "    <tr>\n",
       "      <th>6</th>\n",
       "      <td>2018-01-13</td>\n",
       "      <td>Brooklyn Nets</td>\n",
       "      <td>BRK</td>\n",
       "      <td>113</td>\n",
       "      <td>Washington Wizards</td>\n",
       "      <td>WAS</td>\n",
       "      <td>119</td>\n",
       "      <td>https://www.basketball-reference.com/boxscores...</td>\n",
       "    </tr>\n",
       "  </tbody>\n",
       "</table>\n",
       "</div>"
      ],
      "text/plain": [
       "         DATE              ROAD_TEAM ROAD_TM ROAD_PTS             HOME_TEAM  \\\n",
       "0  2018-01-13        Detroit Pistons     DET      105         Chicago Bulls   \n",
       "1  2018-01-13  Oklahoma City Thunder     OKC      101     Charlotte Hornets   \n",
       "2  2018-01-13     Los Angeles Lakers     LAL      107      Dallas Mavericks   \n",
       "3  2018-01-13       Sacramento Kings     SAC      105  Los Angeles Clippers   \n",
       "4  2018-01-13         Denver Nuggets     DEN       80     San Antonio Spurs   \n",
       "5  2018-01-13  Golden State Warriors     GSW      127       Toronto Raptors   \n",
       "6  2018-01-13          Brooklyn Nets     BRK      113    Washington Wizards   \n",
       "\n",
       "  HOME_TM HOME_PTS                                          BOX_SCORE  \n",
       "0     CHI      107  https://www.basketball-reference.com/boxscores...  \n",
       "1     CHO       91  https://www.basketball-reference.com/boxscores...  \n",
       "2     DAL      101  https://www.basketball-reference.com/boxscores...  \n",
       "3     LAC      126  https://www.basketball-reference.com/boxscores...  \n",
       "4     SAS      112  https://www.basketball-reference.com/boxscores...  \n",
       "5     TOR      125  https://www.basketball-reference.com/boxscores...  \n",
       "6     WAS      119  https://www.basketball-reference.com/boxscores...  "
      ]
     },
     "execution_count": 225,
     "metadata": {},
     "output_type": "execute_result"
    }
   ],
   "source": [
    "sched"
   ]
  },
  {
   "cell_type": "code",
   "execution_count": null,
   "metadata": {},
   "outputs": [],
   "source": [
    "def get_basic_box_score(url, road_team, home_team):\n",
    "    \"\"\"\n",
    "    \"\"\"\n",
    "    \n",
    "    pass"
   ]
  },
  {
   "cell_type": "code",
   "execution_count": 168,
   "metadata": {},
   "outputs": [],
   "source": [
    "url = 'https://www.basketball-reference.com/boxscores/201710170CLE.html'\n",
    "page = requests.get(url)\n",
    "tree = html.fromstring(page.content)"
   ]
  },
  {
   "cell_type": "code",
   "execution_count": 206,
   "metadata": {},
   "outputs": [],
   "source": [
    "#player_name = tree.xpath('//*[@id=\"box_bos_basic\"]//th/text()')"
   ]
  },
  {
   "cell_type": "code",
   "execution_count": 269,
   "metadata": {},
   "outputs": [],
   "source": [
    "class BasicBoxScore:\n",
    "    def __init__(self, team_name, tree):\n",
    "        self.team_name = team_name.lower()\n",
    "        self.tree = tree\n",
    "\n",
    "    def get_col(self, col_name):\n",
    "        return self.tree.xpath(f'//*[@id=\"box_{self.team_name}_basic\"]//*[@data-stat=\"{col_name}\"]/text()')"
   ]
  },
  {
   "cell_type": "code",
   "execution_count": 270,
   "metadata": {},
   "outputs": [],
   "source": [
    "box = BasicBoxScore('BOS', tree)"
   ]
  },
  {
   "cell_type": "code",
   "execution_count": 275,
   "metadata": {},
   "outputs": [],
   "source": [
    "MIN = box.get_col('mp')\n",
    "FG = box.get_col('fg')\n",
    "FGA = box.get_col('fga')\n",
    "FG_PCT = box.get_col('fg_pct')\n",
    "FG3 = box.get_col('fg3')\n",
    "FG3A = box.get_col('fg3a')\n",
    "FG3_PCT = box.get_col('fg3_pct')\n",
    "FT = box.get_col('ft')\n",
    "FTA = box.get_col('fta')\n",
    "FT_PCT = box.get_col('ft_pct')\n",
    "ORB = box.get_col('orb')\n",
    "DRB = box.get_col('drb')\n",
    "TRB = box.get_col('trb')\n",
    "AST = box.get_col('ast')\n",
    "STL = box.get_col('stl')\n",
    "BLK = box.get_col('blk')\n",
    "TOV = box.get_col('tov')\n",
    "PF = box.get_col('pf')\n",
    "PTS = box.get_col('pts')\n",
    "PM = box.get_col('plus_minus')"
   ]
  },
  {
   "cell_type": "code",
   "execution_count": 277,
   "metadata": {},
   "outputs": [],
   "source": [
    "box_score = {\n",
    "    'MIN':      MIN,\n",
    "    'FG':       FG,\n",
    "    'FGA':      FGA,\n",
    "    'FG_PCT':   FG_PCT,\n",
    "    'FG3':      FG3,\n",
    "    'FG3A':     FG3A,\n",
    "    'FG3_PCT':  FG3_PCT,\n",
    "    'FT':       FT,\n",
    "    'FTA':      FTA,\n",
    "    'FT_PCT':   FT_PCT,\n",
    "    'ORB':      ORB,\n",
    "    'DRB':      DRB,\n",
    "    'TRB':      TRB,\n",
    "    'AST':      AST,\n",
    "    'STL':      STL,\n",
    "    'BLK':      BLK,\n",
    "    'TOV':      TOV,\n",
    "    'PF':       PF,\n",
    "    'PTS':      PTS,\n",
    "    'PM':       PM,\n",
    "}"
   ]
  },
  {
   "cell_type": "code",
   "execution_count": null,
   "metadata": {},
   "outputs": [],
   "source": []
  },
  {
   "cell_type": "code",
   "execution_count": 278,
   "metadata": {},
   "outputs": [
    {
     "ename": "ValueError",
     "evalue": "arrays must all be same length",
     "output_type": "error",
     "traceback": [
      "\u001b[0;31m---------------------------------------------------------------------------\u001b[0m",
      "\u001b[0;31mValueError\u001b[0m                                Traceback (most recent call last)",
      "\u001b[0;32m<ipython-input-278-e46c4c1f074f>\u001b[0m in \u001b[0;36m<module>\u001b[0;34m()\u001b[0m\n\u001b[0;32m----> 1\u001b[0;31m \u001b[0mbox_score\u001b[0m \u001b[0;34m=\u001b[0m \u001b[0mpd\u001b[0m\u001b[0;34m.\u001b[0m\u001b[0mDataFrame\u001b[0m\u001b[0;34m(\u001b[0m\u001b[0mbox_score\u001b[0m\u001b[0;34m)\u001b[0m\u001b[0;34m\u001b[0m\u001b[0m\n\u001b[0m",
      "\u001b[0;32m~/.local/lib/python3.6/site-packages/pandas/core/frame.py\u001b[0m in \u001b[0;36m__init__\u001b[0;34m(self, data, index, columns, dtype, copy)\u001b[0m\n\u001b[1;32m    346\u001b[0m                                  dtype=dtype, copy=copy)\n\u001b[1;32m    347\u001b[0m         \u001b[0;32melif\u001b[0m \u001b[0misinstance\u001b[0m\u001b[0;34m(\u001b[0m\u001b[0mdata\u001b[0m\u001b[0;34m,\u001b[0m \u001b[0mdict\u001b[0m\u001b[0;34m)\u001b[0m\u001b[0;34m:\u001b[0m\u001b[0;34m\u001b[0m\u001b[0m\n\u001b[0;32m--> 348\u001b[0;31m             \u001b[0mmgr\u001b[0m \u001b[0;34m=\u001b[0m \u001b[0mself\u001b[0m\u001b[0;34m.\u001b[0m\u001b[0m_init_dict\u001b[0m\u001b[0;34m(\u001b[0m\u001b[0mdata\u001b[0m\u001b[0;34m,\u001b[0m \u001b[0mindex\u001b[0m\u001b[0;34m,\u001b[0m \u001b[0mcolumns\u001b[0m\u001b[0;34m,\u001b[0m \u001b[0mdtype\u001b[0m\u001b[0;34m=\u001b[0m\u001b[0mdtype\u001b[0m\u001b[0;34m)\u001b[0m\u001b[0;34m\u001b[0m\u001b[0m\n\u001b[0m\u001b[1;32m    349\u001b[0m         \u001b[0;32melif\u001b[0m \u001b[0misinstance\u001b[0m\u001b[0;34m(\u001b[0m\u001b[0mdata\u001b[0m\u001b[0;34m,\u001b[0m \u001b[0mma\u001b[0m\u001b[0;34m.\u001b[0m\u001b[0mMaskedArray\u001b[0m\u001b[0;34m)\u001b[0m\u001b[0;34m:\u001b[0m\u001b[0;34m\u001b[0m\u001b[0m\n\u001b[1;32m    350\u001b[0m             \u001b[0;32mimport\u001b[0m \u001b[0mnumpy\u001b[0m\u001b[0;34m.\u001b[0m\u001b[0mma\u001b[0m\u001b[0;34m.\u001b[0m\u001b[0mmrecords\u001b[0m \u001b[0;32mas\u001b[0m \u001b[0mmrecords\u001b[0m\u001b[0;34m\u001b[0m\u001b[0m\n",
      "\u001b[0;32m~/.local/lib/python3.6/site-packages/pandas/core/frame.py\u001b[0m in \u001b[0;36m_init_dict\u001b[0;34m(self, data, index, columns, dtype)\u001b[0m\n\u001b[1;32m    457\u001b[0m             \u001b[0marrays\u001b[0m \u001b[0;34m=\u001b[0m \u001b[0;34m[\u001b[0m\u001b[0mdata\u001b[0m\u001b[0;34m[\u001b[0m\u001b[0mk\u001b[0m\u001b[0;34m]\u001b[0m \u001b[0;32mfor\u001b[0m \u001b[0mk\u001b[0m \u001b[0;32min\u001b[0m \u001b[0mkeys\u001b[0m\u001b[0;34m]\u001b[0m\u001b[0;34m\u001b[0m\u001b[0m\n\u001b[1;32m    458\u001b[0m \u001b[0;34m\u001b[0m\u001b[0m\n\u001b[0;32m--> 459\u001b[0;31m         \u001b[0;32mreturn\u001b[0m \u001b[0m_arrays_to_mgr\u001b[0m\u001b[0;34m(\u001b[0m\u001b[0marrays\u001b[0m\u001b[0;34m,\u001b[0m \u001b[0mdata_names\u001b[0m\u001b[0;34m,\u001b[0m \u001b[0mindex\u001b[0m\u001b[0;34m,\u001b[0m \u001b[0mcolumns\u001b[0m\u001b[0;34m,\u001b[0m \u001b[0mdtype\u001b[0m\u001b[0;34m=\u001b[0m\u001b[0mdtype\u001b[0m\u001b[0;34m)\u001b[0m\u001b[0;34m\u001b[0m\u001b[0m\n\u001b[0m\u001b[1;32m    460\u001b[0m \u001b[0;34m\u001b[0m\u001b[0m\n\u001b[1;32m    461\u001b[0m     \u001b[0;32mdef\u001b[0m \u001b[0m_init_ndarray\u001b[0m\u001b[0;34m(\u001b[0m\u001b[0mself\u001b[0m\u001b[0;34m,\u001b[0m \u001b[0mvalues\u001b[0m\u001b[0;34m,\u001b[0m \u001b[0mindex\u001b[0m\u001b[0;34m,\u001b[0m \u001b[0mcolumns\u001b[0m\u001b[0;34m,\u001b[0m \u001b[0mdtype\u001b[0m\u001b[0;34m=\u001b[0m\u001b[0;32mNone\u001b[0m\u001b[0;34m,\u001b[0m \u001b[0mcopy\u001b[0m\u001b[0;34m=\u001b[0m\u001b[0;32mFalse\u001b[0m\u001b[0;34m)\u001b[0m\u001b[0;34m:\u001b[0m\u001b[0;34m\u001b[0m\u001b[0m\n",
      "\u001b[0;32m~/.local/lib/python3.6/site-packages/pandas/core/frame.py\u001b[0m in \u001b[0;36m_arrays_to_mgr\u001b[0;34m(arrays, arr_names, index, columns, dtype)\u001b[0m\n\u001b[1;32m   7313\u001b[0m     \u001b[0;31m# figure out the index, if necessary\u001b[0m\u001b[0;34m\u001b[0m\u001b[0;34m\u001b[0m\u001b[0m\n\u001b[1;32m   7314\u001b[0m     \u001b[0;32mif\u001b[0m \u001b[0mindex\u001b[0m \u001b[0;32mis\u001b[0m \u001b[0;32mNone\u001b[0m\u001b[0;34m:\u001b[0m\u001b[0;34m\u001b[0m\u001b[0m\n\u001b[0;32m-> 7315\u001b[0;31m         \u001b[0mindex\u001b[0m \u001b[0;34m=\u001b[0m \u001b[0mextract_index\u001b[0m\u001b[0;34m(\u001b[0m\u001b[0marrays\u001b[0m\u001b[0;34m)\u001b[0m\u001b[0;34m\u001b[0m\u001b[0m\n\u001b[0m\u001b[1;32m   7316\u001b[0m \u001b[0;34m\u001b[0m\u001b[0m\n\u001b[1;32m   7317\u001b[0m     \u001b[0;31m# don't force copy because getting jammed in an ndarray anyway\u001b[0m\u001b[0;34m\u001b[0m\u001b[0;34m\u001b[0m\u001b[0m\n",
      "\u001b[0;32m~/.local/lib/python3.6/site-packages/pandas/core/frame.py\u001b[0m in \u001b[0;36mextract_index\u001b[0;34m(data)\u001b[0m\n\u001b[1;32m   7359\u001b[0m             \u001b[0mlengths\u001b[0m \u001b[0;34m=\u001b[0m \u001b[0mlist\u001b[0m\u001b[0;34m(\u001b[0m\u001b[0mset\u001b[0m\u001b[0;34m(\u001b[0m\u001b[0mraw_lengths\u001b[0m\u001b[0;34m)\u001b[0m\u001b[0;34m)\u001b[0m\u001b[0;34m\u001b[0m\u001b[0m\n\u001b[1;32m   7360\u001b[0m             \u001b[0;32mif\u001b[0m \u001b[0mlen\u001b[0m\u001b[0;34m(\u001b[0m\u001b[0mlengths\u001b[0m\u001b[0;34m)\u001b[0m \u001b[0;34m>\u001b[0m \u001b[0;36m1\u001b[0m\u001b[0;34m:\u001b[0m\u001b[0;34m\u001b[0m\u001b[0m\n\u001b[0;32m-> 7361\u001b[0;31m                 \u001b[0;32mraise\u001b[0m \u001b[0mValueError\u001b[0m\u001b[0;34m(\u001b[0m\u001b[0;34m'arrays must all be same length'\u001b[0m\u001b[0;34m)\u001b[0m\u001b[0;34m\u001b[0m\u001b[0m\n\u001b[0m\u001b[1;32m   7362\u001b[0m \u001b[0;34m\u001b[0m\u001b[0m\n\u001b[1;32m   7363\u001b[0m             \u001b[0;32mif\u001b[0m \u001b[0mhave_dicts\u001b[0m\u001b[0;34m:\u001b[0m\u001b[0;34m\u001b[0m\u001b[0m\n",
      "\u001b[0;31mValueError\u001b[0m: arrays must all be same length"
     ]
    }
   ],
   "source": [
    "box_score = pd.DataFrame(box_score)"
   ]
  },
  {
   "cell_type": "code",
   "execution_count": null,
   "metadata": {},
   "outputs": [],
   "source": []
  },
  {
   "cell_type": "code",
   "execution_count": 263,
   "metadata": {},
   "outputs": [],
   "source": [
    "MP = tree.xpath('//*[@id=\"box_bos_basic\"]//*[@data-stat=\"mp\"]/text()')\n",
    "\n",
    "def get_stats_col(team_name, col_name, tree):\n",
    "    return tree.xpath(f'//*[@id=\"box_{team_name}_basic\"]//*[@data-stat=\"{col_name}\"]/text()')"
   ]
  },
  {
   "cell_type": "code",
   "execution_count": 264,
   "metadata": {},
   "outputs": [
    {
     "data": {
      "text/plain": [
       "['MP',\n",
       " '39:36',\n",
       " '39:21',\n",
       " '36:32',\n",
       " '32:07',\n",
       " '5:15',\n",
       " 'MP',\n",
       " '35:03',\n",
       " '19:32',\n",
       " '19:06',\n",
       " '8:39',\n",
       " '4:49',\n",
       " '240']"
      ]
     },
     "execution_count": 264,
     "metadata": {},
     "output_type": "execute_result"
    }
   ],
   "source": [
    "get_stats_col('bos', 'mp', tree)"
   ]
  },
  {
   "cell_type": "code",
   "execution_count": 250,
   "metadata": {},
   "outputs": [],
   "source": [
    "stats_table = tree.xpath('//*[@id=\"box_bos_basic\"]/tbody/tr')"
   ]
  },
  {
   "cell_type": "code",
   "execution_count": 253,
   "metadata": {
    "scrolled": true
   },
   "outputs": [
    {
     "name": "stdout",
     "output_type": "stream",
     "text": [
      "['Jaylen Brown', '39:36', '11', '23', '.478', '2', '9', '.222', '1', '2', '.500', '1', '5', '6', '0', '2', '0', '3', '5', '25', '-5']\n",
      "['Kyrie Irving', '39:21', '8', '17', '.471', '4', '9', '.444', '2', '2', '1.000', '2', '2', '4', '10', '3', '0', '2', '4', '22', '-1']\n",
      "['Jayson Tatum', '36:32', '5', '12', '.417', '1', '2', '.500', '3', '3', '1.000', '4', '6', '10', '3', '0', '0', '1', '4', '14', '+6']\n",
      "['Al Horford', '32:07', '2', '7', '.286', '0', '2', '.000', '5', '7', '.714', '0', '7', '7', '5', '0', '1', '0', '2', '9', '+8']\n",
      "['Gordon Hayward', '5:15', '1', '2', '.500', '0', '1', '.000', '0', '0', '0', '1', '1', '0', '0', '0', '0', '1', '2', '+3']\n",
      "[]\n",
      "['Marcus Smart', '35:03', '5', '16', '.313', '0', '4', '.000', '2', '3', '.667', '0', '9', '9', '3', '2', '2', '2', '2', '12', '-8']\n",
      "['Terry Rozier', '19:32', '2', '6', '.333', '1', '3', '.333', '4', '4', '1.000', '0', '3', '3', '2', '4', '0', '0', '0', '9', '+4']\n",
      "['Aron Baynes', '19:06', '2', '2', '1.000', '0', '0', '2', '4', '.500', '2', '3', '5', '1', '0', '1', '2', '5', '6', '-14']\n",
      "['Semi Ojeleye', '8:39', '0', '2', '.000', '0', '1', '.000', '0', '0', '0', '0', '0', '0', '0', '0', '0', '1', '0', '-10']\n",
      "['Shane Larkin', '4:49', '0', '1', '.000', '0', '1', '.000', '0', '0', '0', '1', '1', '0', '0', '0', '0', '0', '0', '+2']\n",
      "['Daniel Theis', 'Did Not Play']\n",
      "['Abdel Nader', 'Did Not Play']\n"
     ]
    }
   ],
   "source": [
    "for row in stats_table:\n",
    "    player_name = row.xpath('th/a/text()')\n",
    "    player_stats = row.xpath('td/text()')\n",
    "    print(player_name + player_stats)"
   ]
  },
  {
   "cell_type": "code",
   "execution_count": null,
   "metadata": {},
   "outputs": [],
   "source": [
    "//*[@id=\"box_bos_basic\"]/tbody/tr[1]/td[1]"
   ]
  }
 ],
 "metadata": {
  "kernelspec": {
   "display_name": "Python 3",
   "language": "python",
   "name": "python3"
  },
  "language_info": {
   "codemirror_mode": {
    "name": "ipython",
    "version": 3
   },
   "file_extension": ".py",
   "mimetype": "text/x-python",
   "name": "python",
   "nbconvert_exporter": "python",
   "pygments_lexer": "ipython3",
   "version": "3.6.5"
  }
 },
 "nbformat": 4,
 "nbformat_minor": 2
}
